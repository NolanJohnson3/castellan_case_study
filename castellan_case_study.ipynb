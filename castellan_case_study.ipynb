{
 "cells": [
  {
   "cell_type": "markdown",
   "id": "0021dc41-ebd0-4a9f-b17c-e8dde35d9de0",
   "metadata": {},
   "source": [
    "### Nolan Johnson \n",
    "#### Castellan Case Study \n",
    "25 Nov 2024"
   ]
  },
  {
   "cell_type": "code",
   "execution_count": 2,
   "id": "f7c3781e-00ee-4ba2-b98c-22a39687c5b7",
   "metadata": {},
   "outputs": [],
   "source": [
    "import pandas as pd\n",
    "import numpy as np\n",
    "import yahooquery as yq"
   ]
  },
  {
   "cell_type": "code",
   "execution_count": 3,
   "id": "3541290e-e814-4e50-9fe1-aa18b56f3767",
   "metadata": {},
   "outputs": [],
   "source": [
    "from scipy.stats import norm\n",
    "### Black Scholes Formula\n",
    "\n",
    "#S: current asset price\n",
    "#K: strike price of the option\n",
    "#T: expiration \n",
    "#r: risk free rate \n",
    "#sigma: volatility \n",
    "\n",
    "N = norm.cdf\n",
    "def BS_CALL(S, K, T, r, sigma): \n",
    "    d1 = (np.log(S/K) + (r + sigma**2/2)*T) / (sigma*np.sqrt(T))\n",
    "    d2 = d1 - sigma * np.sqrt(T)\n",
    "    return S * N(d1) - K * np.exp(-r*T)* N(d2)\n",
    "\n",
    "stock = \"AAPL\"\n",
    "risk_free_rate = .045"
   ]
  },
  {
   "cell_type": "code",
   "execution_count": 4,
   "id": "9b57a5a2-d9fb-4ff4-9ced-5eb66723f31a",
   "metadata": {},
   "outputs": [],
   "source": [
    "from yahooquery import Ticker\n",
    "aapl = Ticker('aapl')\n",
    "# Get the options chain\n",
    "options = aapl.option_chain\n",
    "# Convert the calls to a DataFrame\n",
    "options_df = options.reset_index()\n",
    "# Create copy of DataFrame\n",
    "calls_df = options_df[options_df['optionType'] == 'calls'].copy()\n",
    "# Create mid_price column rounded to 3 decimal points (per given formula)\n",
    "calls_df['mid_price'] = ((calls_df['bid'] + calls_df['ask']) / 2).round(3)\n",
    "# Filter out mid_price where < 1\n",
    "calls_df = calls_df[calls_df['mid_price'] > 1]"
   ]
  },
  {
   "cell_type": "code",
   "execution_count": 5,
   "id": "a7ee697a-c680-4a45-b47e-f70247f92b28",
   "metadata": {},
   "outputs": [],
   "source": [
    "import datetime as dt\n",
    "# Variable for today's date\n",
    "today = dt.datetime.today()\n",
    "# daysToExpiration column, formatting to days\n",
    "calls_df['daysToExpiration'] = ((calls_df['expiration']) - today)\n",
    "calls_df['daysToExpiration'] = calls_df['daysToExpiration'].dt.days"
   ]
  },
  {
   "cell_type": "code",
   "execution_count": 6,
   "id": "724fa7d2-fc7f-449a-bc96-404477412c47",
   "metadata": {},
   "outputs": [],
   "source": [
    "# Black Scholes Formula implementation using function above (rounded to 3 decimal points)\n",
    "calls_df['black_scholes'] = BS_CALL(calls_df['lastPrice'], calls_df['strike'], calls_df['daysToExpiration'], risk_free_rate, calls_df['impliedVolatility']).round(3)\n",
    "# difference_in_price calculated column (rounded to 3 decimal points)\n",
    "calls_df['difference_in_price'] = (calls_df['mid_price'] - calls_df['black_scholes']).round(3)"
   ]
  },
  {
   "cell_type": "code",
   "execution_count": 7,
   "id": "c69d7992-bbf4-4773-ad4f-357f5f1f74c5",
   "metadata": {},
   "outputs": [],
   "source": [
    "# Drops 'unnecessary' columns\n",
    "#calls_df.drop(['currency', 'change', 'percentChange', 'volume', 'openInterest', 'contractSize', 'lastTradeDate', 'inTheMoney'], axis = 1, inplace = True)\n",
    "\n",
    "# Reorders columns intuitively\n",
    "calls_df = calls_df[['symbol', 'contractSymbol', 'expiration', 'daysToExpiration', 'strike', 'impliedVolatility', 'lastPrice', 'bid', 'ask', 'mid_price', 'black_scholes', 'difference_in_price']]\n",
    "#calls_df"
   ]
  },
  {
   "cell_type": "code",
   "execution_count": 8,
   "id": "0323dbb5-7010-47ca-bd1f-9f85522b99e6",
   "metadata": {},
   "outputs": [],
   "source": [
    "# Output csv file to current WD\n",
    "calls_df.to_csv('out.csv', index = False)"
   ]
  }
 ],
 "metadata": {
  "kernelspec": {
   "display_name": "Python 3 (ipykernel)",
   "language": "python",
   "name": "python3"
  },
  "language_info": {
   "codemirror_mode": {
    "name": "ipython",
    "version": 3
   },
   "file_extension": ".py",
   "mimetype": "text/x-python",
   "name": "python",
   "nbconvert_exporter": "python",
   "pygments_lexer": "ipython3",
   "version": "3.12.4"
  }
 },
 "nbformat": 4,
 "nbformat_minor": 5
}
